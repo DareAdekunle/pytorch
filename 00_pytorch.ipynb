{
 "cells": [
  {
   "cell_type": "markdown",
   "id": "8d4a36d4-b9d5-4226-b710-63cd1573d257",
   "metadata": {},
   "source": [
    "import torch\n",
    "import pandas"
   ]
  },
  {
   "cell_type": "markdown",
   "id": "01d1f153-d63a-4a4e-aa0f-1a401d942d92",
   "metadata": {},
   "source": [
    "# introduction to tensors\n",
    "\n",
    "### Creating scalars\n",
    "\n"
   ]
  },
  {
   "cell_type": "code",
   "execution_count": 2,
   "id": "b1462ecb-05e0-4c1a-82c1-51983899e540",
   "metadata": {},
   "outputs": [
    {
     "data": {
      "text/plain": [
       "tensor(7)"
      ]
     },
     "execution_count": 2,
     "metadata": {},
     "output_type": "execute_result"
    }
   ],
   "source": [
    "#scalar\n",
    "\n",
    "scalar= torch.tensor(7)\n",
    "scalar"
   ]
  },
  {
   "cell_type": "code",
   "execution_count": 3,
   "id": "0b7ff2b9-0789-47cb-bf05-deed0e673bef",
   "metadata": {},
   "outputs": [
    {
     "data": {
      "text/plain": [
       "tensor([7, 7])"
      ]
     },
     "execution_count": 3,
     "metadata": {},
     "output_type": "execute_result"
    }
   ],
   "source": [
    "# vector\n",
    "\n",
    "vector= torch.tensor([7, 7])\n",
    "vector"
   ]
  },
  {
   "cell_type": "code",
   "execution_count": 4,
   "id": "2f69393d-cc6a-4bf2-b480-856882c93a74",
   "metadata": {},
   "outputs": [
    {
     "data": {
      "text/plain": [
       "tensor([[7, 1],\n",
       "        [5, 3]])"
      ]
     },
     "execution_count": 4,
     "metadata": {},
     "output_type": "execute_result"
    }
   ],
   "source": [
    "# matrix\n",
    "\n",
    "matrix= torch.tensor([[7, 1], \n",
    "                     [5, 3]])\n",
    "\n",
    "matrix"
   ]
  },
  {
   "cell_type": "code",
   "execution_count": 5,
   "id": "3f820edf-1e84-440a-bf85-d78b69aa7e61",
   "metadata": {
    "scrolled": true
   },
   "outputs": [
    {
     "data": {
      "text/plain": [
       "tensor([[[[3, 5],\n",
       "          [4, 6],\n",
       "          [1, 9]]]])"
      ]
     },
     "execution_count": 5,
     "metadata": {},
     "output_type": "execute_result"
    }
   ],
   "source": [
    "TENSOR= torch.tensor([[[[3, 5], \n",
    "                       [4, 6],\n",
    "                       [1, 9]]]])\n",
    "\n",
    "TENSOR"
   ]
  },
  {
   "cell_type": "code",
   "execution_count": 6,
   "id": "85eb612f-17ee-4a79-a79c-de8f025d77c0",
   "metadata": {},
   "outputs": [
    {
     "name": "stdout",
     "output_type": "stream",
     "text": [
      "The dimension of the variable \"scalar\" is 0.\n",
      "The dimension of the variable \"vector\" is 1.\n",
      "The dimension of the variable \"matrix\" is 2.\n",
      "The dimension of the variable \"TENSOR\" is 4.\n"
     ]
    }
   ],
   "source": [
    "# To check the dimension of a tensor we use `torch.ndim`\n",
    "\n",
    "print(f'The dimension of the variable \"scalar\" is {scalar.ndim}.\\nThe dimension of the variable \"vector\" is {vector.ndim}.\\nThe dimension of the variable \"matrix\" is {matrix.ndim}.\\\n",
    "\\nThe dimension of the variable \"TENSOR\" is {TENSOR.ndim}.')"
   ]
  },
  {
   "cell_type": "code",
   "execution_count": 7,
   "id": "56e3579d-81da-4bfe-b352-81190b66dde5",
   "metadata": {},
   "outputs": [
    {
     "name": "stdout",
     "output_type": "stream",
     "text": [
      "The shape of the variable \"scalar\" is torch.Size([]).\n",
      "The shape of the variable \"vector\" is torch.Size([2]).\n",
      "The shape of the variable \"matrix\" is torch.Size([2, 2]).\n",
      "The shape of the variable \"TENSOR\" is torch.Size([1, 1, 3, 2]).\n"
     ]
    }
   ],
   "source": [
    "# to check the shapes of the above\n",
    "\n",
    "print(f'The shape of the variable \"scalar\" is {scalar.shape}.\\nThe shape of the variable \"vector\" is {vector.shape}.\\nThe shape of the variable \"matrix\" is {matrix.shape}.\\\n",
    "\\nThe shape of the variable \"TENSOR\" is {TENSOR.shape}.')"
   ]
  },
  {
   "cell_type": "markdown",
   "id": "bae0e387-c76e-48b0-a05e-0d9343ab77b2",
   "metadata": {},
   "source": [
    "<h3>Summary of types of tensor objects</h3>\n",
    "\n",
    "| Name   | What is it?                                     | Number of Dimensions | Variable Nomenclature |\n",
    "| ------: | -----------------------------------------------: | --------------------: | ---------------------: |\n",
    "| Scaler | A single number, representing only magnitude     | 0                    | Lower (a)             |\n",
    "| Vector | A number with direction, can have many other numbers | 1 | lower (y) |\n",
    "| Matrix | A 2 dimensional array of numbers | 2 | Upper (Q) |\n",
    "| Tensor | A n-dimensional array of numbers | Can be any number: 0 = scalar, 1 = vector, 2= matrix | Upper (X) |"
   ]
  },
  {
   "cell_type": "markdown",
   "id": "0afa0ba5-ed95-4d23-a0af-2162946c517b",
   "metadata": {},
   "source": [
    "### Torch object xtics"
   ]
  },
  {
   "cell_type": "code",
   "execution_count": 8,
   "id": "c9cb41c8-7254-438f-9128-a50291293f59",
   "metadata": {},
   "outputs": [],
   "source": [
    "TENSOR= torch.tensor([[[1,4], [5, 6]], \n",
    "              [[2, 7], [3, 5]],\n",
    "              [[7, 9], [2, 9]]])"
   ]
  },
  {
   "cell_type": "code",
   "execution_count": 9,
   "id": "bec472ae-3628-4b6f-b8b6-a97908ba631f",
   "metadata": {},
   "outputs": [
    {
     "data": {
      "text/plain": [
       "torch.Size([3, 2, 2])"
      ]
     },
     "execution_count": 9,
     "metadata": {},
     "output_type": "execute_result"
    }
   ],
   "source": [
    "TENSOR.shape"
   ]
  },
  {
   "cell_type": "code",
   "execution_count": 10,
   "id": "09e1dc53-ba18-4589-a506-79a6d7753718",
   "metadata": {},
   "outputs": [
    {
     "data": {
      "text/plain": [
       "3"
      ]
     },
     "execution_count": 10,
     "metadata": {},
     "output_type": "execute_result"
    }
   ],
   "source": [
    "TENSOR.ndim"
   ]
  },
  {
   "cell_type": "code",
   "execution_count": 11,
   "id": "b9300334-84a3-4116-a08d-dd3601f46970",
   "metadata": {},
   "outputs": [
    {
     "data": {
      "text/plain": [
       "torch.int64"
      ]
     },
     "execution_count": 11,
     "metadata": {},
     "output_type": "execute_result"
    }
   ],
   "source": [
    "TENSOR.dtype"
   ]
  },
  {
   "cell_type": "markdown",
   "id": "a8319a75-272d-413a-890f-f58d55a9ca71",
   "metadata": {},
   "source": [
    "### Random Tensors\n",
    "\n",
    "Why Random  Tensors?\n",
    "\n",
    "this is because machine learning models usually start training with a large set of random numbers and keep adjusting weights at each epoch until it achieves its goal or completes the number of epochs"
   ]
  },
  {
   "cell_type": "code",
   "execution_count": 12,
   "id": "aa06e435-bb74-4cd5-864b-0b90fe144b51",
   "metadata": {},
   "outputs": [
    {
     "data": {
      "text/plain": [
       "tensor([[0.7272, 0.1547, 0.7471, 0.4858],\n",
       "        [0.6741, 0.5403, 0.0758, 0.9862],\n",
       "        [0.2669, 0.8116, 0.2864, 0.3869]])"
      ]
     },
     "execution_count": 12,
     "metadata": {},
     "output_type": "execute_result"
    }
   ],
   "source": [
    "# Creating a `Random Tensors` of shape (3, 4)\n",
    "\n",
    "r_tensor= torch.rand(3, 4)\n",
    "r_tensor"
   ]
  },
  {
   "cell_type": "code",
   "execution_count": 13,
   "id": "8e392502-8304-45cf-9eee-5c2015816704",
   "metadata": {
    "scrolled": true
   },
   "outputs": [
    {
     "data": {
      "text/plain": [
       "(torch.Size([224, 224, 3]), 3)"
      ]
     },
     "execution_count": 13,
     "metadata": {},
     "output_type": "execute_result"
    }
   ],
   "source": [
    "# create a random tensor with similar shape to an image tensor. the shape of an image tensor is given as (height, width, channels)\n",
    "# example a 255 pixels square color image will be (224, 224, 3) as there are 3 color channels for thr RGB\n",
    "\n",
    "rand_image= torch.rand(224, 224, 3)\n",
    "rand_image.shape, rand_image.ndim"
   ]
  },
  {
   "cell_type": "markdown",
   "id": "acb06de2-980d-42eb-878c-3cc02efdb6c5",
   "metadata": {},
   "source": [
    "### Tensors of Zeros and Ones\n",
    "\n"
   ]
  },
  {
   "cell_type": "code",
   "execution_count": 14,
   "id": "4c79a9e1-53a3-4502-821a-60c182e3d85a",
   "metadata": {},
   "outputs": [
    {
     "data": {
      "text/plain": [
       "tensor([[0., 0., 0., 0.],\n",
       "        [0., 0., 0., 0.],\n",
       "        [0., 0., 0., 0.]])"
      ]
     },
     "execution_count": 14,
     "metadata": {},
     "output_type": "execute_result"
    }
   ],
   "source": [
    "# Create a tensor of zeros\n",
    "zero_tensor= torch.zeros(3, 4)\n",
    "zero_tensor"
   ]
  },
  {
   "cell_type": "code",
   "execution_count": 15,
   "id": "12984ab9-e2da-4f5e-bba4-abf600f5ffaf",
   "metadata": {},
   "outputs": [
    {
     "data": {
      "text/plain": [
       "tensor([[1., 1., 1., 1.],\n",
       "        [1., 1., 1., 1.],\n",
       "        [1., 1., 1., 1.]])"
      ]
     },
     "execution_count": 15,
     "metadata": {},
     "output_type": "execute_result"
    }
   ],
   "source": [
    "# create a tensor of ones\n",
    "\n",
    "one_tensor= torch.ones(3, 4)\n",
    "one_tensor"
   ]
  },
  {
   "cell_type": "markdown",
   "id": "b9d6555b-9ffb-4bf6-8622-22542137940e",
   "metadata": {},
   "source": [
    "### Creating a range of tensors and tensors-like\n",
    "\n",
    "torch.range(start, end, step) the `end` is exclusive and the start is inclusive. however range is to be depreccated in future versions and thus a better fix will be torch.arange(start, end, step)"
   ]
  },
  {
   "cell_type": "code",
   "execution_count": 16,
   "id": "5834e984-5b10-47df-938f-84ba16224edb",
   "metadata": {},
   "outputs": [
    {
     "data": {
      "text/plain": [
       "tensor([ 1,  2,  3,  4,  5,  6,  7,  8,  9, 10])"
      ]
     },
     "execution_count": 16,
     "metadata": {},
     "output_type": "execute_result"
    }
   ],
   "source": [
    "# create a torch range\n",
    "one_to_ten= torch.arange(1, 11, 1)\n",
    "one_to_ten"
   ]
  },
  {
   "cell_type": "code",
   "execution_count": 17,
   "id": "194261b4-7611-4f64-a8cb-61fcda074b0a",
   "metadata": {},
   "outputs": [
    {
     "data": {
      "text/plain": [
       "tensor([[0.3922, 0.0056, 0.9104, 0.5717],\n",
       "        [0.0539, 0.8941, 0.3167, 0.7245],\n",
       "        [0.4682, 0.5532, 0.8813, 0.7928]])"
      ]
     },
     "execution_count": 17,
     "metadata": {},
     "output_type": "execute_result"
    }
   ],
   "source": [
    "# To create a tensor like another, we use the rand, zero or ones_like the tensor we are trying to copy\n",
    "\n",
    "torch.rand_like(one_tensor) # created a random tensor like one_tensor created above"
   ]
  },
  {
   "cell_type": "markdown",
   "id": "1970c669-0345-4356-a623-781ff92f9b2c",
   "metadata": {},
   "source": [
    "### Tensor Datatypes\n",
    "\n",
    "when creating a tensor there are 3 important parameters, are \n",
    "\n",
    "| Tensor parameter | Action | \n",
    "| :---------------- | :-------|\n",
    "| dtype | defaults to `None`. Used to set the datatype for the objects created eg. torch.float32, torch.float64, torch.float16/torch.half, torch.bfloat16 : https://pytorch.org/docs/stable/tensor_attributes.html |\n",
    "| device | default to `None`. This sets the device on which the tensor will be created. If utilizing a GPU using the passing the type argument set the device |\n",
    "| requires_grad | defaults to `False`. This defines whether gradients should be tracked on operations with this tensor. |"
   ]
  },
  {
   "cell_type": "code",
   "execution_count": 18,
   "id": "0d63ffbd-43b1-448a-b198-b391f63e9d5d",
   "metadata": {},
   "outputs": [
    {
     "name": "stdout",
     "output_type": "stream",
     "text": [
      "tensor([[1., 2., 3.],\n",
      "        [4., 5., 6.]]) torch.float32 \n",
      "\n",
      "tensor([[1., 2., 3.],\n",
      "        [4., 5., 6.]], dtype=torch.float16)\n"
     ]
    }
   ],
   "source": [
    "# integers\n",
    "\n",
    "float_32= torch.tensor([[1,2,3],\n",
    "                        [4,5,6]],\n",
    "                       dtype= torch.float32)\n",
    "print(float_32, float_32.dtype, '\\n')\n",
    "\n",
    "# to change the data type of a tensor, we use the type method\n",
    "\n",
    "float_16= float_32.type(torch.float16)\n",
    "print(float_16)"
   ]
  },
  {
   "cell_type": "code",
   "execution_count": null,
   "id": "f4605f59-228f-4118-88e7-9c3826224cf9",
   "metadata": {},
   "outputs": [],
   "source": []
  },
  {
   "cell_type": "markdown",
   "id": "da6bf2f7-11fe-4b74-bf2d-19f7e5bdfef3",
   "metadata": {},
   "source": [
    "## Note\n",
    "there are 3 main error we will run into with PyTorch and deep learning. These are:\n",
    "<ol>\n",
    "    <li>Tensor not right datatype</li>\n",
    "    <li>Tensor not right shape</li>\n",
    "    <li>Tensor not on right device</li>\n",
    "</ol>"
   ]
  },
  {
   "cell_type": "markdown",
   "id": "f1c6c860-8348-42e1-ba5a-5e303bcab2bd",
   "metadata": {},
   "source": [
    "## Getting information from Tensors"
   ]
  },
  {
   "cell_type": "code",
   "execution_count": 19,
   "id": "859b4167-5ba8-4d04-a1c5-7dbfc19524d5",
   "metadata": {},
   "outputs": [],
   "source": [
    "# create a random tensor\n",
    "\n",
    "tensor= torch.rand([3, 5])"
   ]
  },
  {
   "cell_type": "code",
   "execution_count": 20,
   "id": "6282196e-1fae-412b-b348-9b7cbacba422",
   "metadata": {},
   "outputs": [
    {
     "name": "stdout",
     "output_type": "stream",
     "text": [
      "torch.Size([3, 5]) \n",
      " torch.Size([3, 5])\n"
     ]
    }
   ],
   "source": [
    "# to check the shape of a tensor, we use tensor.shape or .size()\n",
    "\n",
    "print(tensor.shape, '\\n', tensor.size())"
   ]
  },
  {
   "cell_type": "code",
   "execution_count": 21,
   "id": "569e5495-422c-42de-809f-63c360d79ba2",
   "metadata": {},
   "outputs": [
    {
     "data": {
      "text/plain": [
       "torch.float32"
      ]
     },
     "execution_count": 21,
     "metadata": {},
     "output_type": "execute_result"
    }
   ],
   "source": [
    "# to chect the data type of a tensor we use the attribute of a tensor called dtype\n",
    "\n",
    "tensor.dtype"
   ]
  },
  {
   "cell_type": "code",
   "execution_count": 22,
   "id": "ce58d02a-e719-4788-a4b1-cd3141710856",
   "metadata": {},
   "outputs": [
    {
     "data": {
      "text/plain": [
       "device(type='cpu')"
      ]
     },
     "execution_count": 22,
     "metadata": {},
     "output_type": "execute_result"
    }
   ],
   "source": [
    "# to check the device a tensor is on, we use the .device attributes\n",
    "\n",
    "tensor.device"
   ]
  },
  {
   "cell_type": "markdown",
   "id": "64966aae-5417-4c8c-8a1b-95eaa6cb0a45",
   "metadata": {},
   "source": [
    "## Manipulating Tensors\n",
    "\n",
    "Tensor operation include:\n",
    "1. additions\n",
    "2. subtraction\n",
    "3. multiplication (element-wise)\n",
    "4. division\n",
    "5. matrix multiplication"
   ]
  },
  {
   "cell_type": "code",
   "execution_count": 23,
   "id": "f2ae7126-92c3-4af0-83e3-9d71c238d8cf",
   "metadata": {},
   "outputs": [
    {
     "name": "stdout",
     "output_type": "stream",
     "text": [
      "tensor([11, 12, 13])\n",
      "tensor([-9, -8, -7])\n",
      "tensor([10, 20, 30])\n",
      "tensor([0.1000, 0.2000, 0.3000])\n"
     ]
    }
   ],
   "source": [
    "# addition\n",
    "\n",
    "tensor_a= torch.tensor([1, 2, 3])\n",
    "\n",
    "print(tensor_a + 10)\n",
    "\n",
    "# subtraction\n",
    "\n",
    "print(tensor_a - 10)\n",
    "\n",
    "# multiplication\n",
    "\n",
    "print(tensor_a * 10)\n",
    "\n",
    "# division\n",
    "\n",
    "print(tensor_a / 10)\n"
   ]
  },
  {
   "cell_type": "markdown",
   "id": "99db691a-f654-4459-b9aa-fd5d4493e074",
   "metadata": {},
   "source": [
    "### matrix multiplication\n",
    "\n",
    "there are 2 types of multiplication in torch\n",
    "\n",
    "1. element-wise\n",
    "2. Dot product multiplication (matrix multiplication shape (m, n) * (n, k) and the resulting matrix is the dimension of the outer matrix."
   ]
  },
  {
   "cell_type": "code",
   "execution_count": 24,
   "id": "103e16f5-73fe-4c90-a441-05eff78d9f77",
   "metadata": {},
   "outputs": [],
   "source": [
    "tensor= torch.tensor([1, 2, 3])"
   ]
  },
  {
   "cell_type": "code",
   "execution_count": 25,
   "id": "d1406894-0971-4fef-9038-d908189b5c69",
   "metadata": {},
   "outputs": [
    {
     "name": "stdout",
     "output_type": "stream",
     "text": [
      "tensor([1, 2, 3])\n",
      "CPU times: user 706 µs, sys: 754 µs, total: 1.46 ms\n",
      "Wall time: 1.55 ms\n"
     ]
    }
   ],
   "source": [
    "%%time\n",
    "\n",
    "value= 0\n",
    "for i in range(len(tensor)):\n",
    "    value+= tensor[i] + tensor[i]\n",
    "\n",
    "print(tensor)"
   ]
  },
  {
   "cell_type": "code",
   "execution_count": 26,
   "id": "7de74d82-7d9d-440a-8915-cf00ed5518f1",
   "metadata": {},
   "outputs": [
    {
     "name": "stdout",
     "output_type": "stream",
     "text": [
      "CPU times: user 705 µs, sys: 1.13 ms, total: 1.83 ms\n",
      "Wall time: 1.52 ms\n"
     ]
    },
    {
     "data": {
      "text/plain": [
       "tensor(14)"
      ]
     },
     "execution_count": 26,
     "metadata": {},
     "output_type": "execute_result"
    }
   ],
   "source": [
    "%%time\n",
    "torch.matmul(tensor, tensor)"
   ]
  },
  {
   "cell_type": "code",
   "execution_count": 27,
   "id": "037b4eb2-003a-4465-b125-2892b29ee778",
   "metadata": {},
   "outputs": [],
   "source": [
    "tensor_a= torch.tensor([[3, 2], \n",
    "               [4, 5],\n",
    "               [6, 7]])\n",
    "\n",
    "tensor_b= torch.tensor([[1, 2],\n",
    "                        [3, 4], \n",
    "                        [5, 6]])"
   ]
  },
  {
   "cell_type": "code",
   "execution_count": 28,
   "id": "05b5f860-d004-4e4f-9917-df322e09fbda",
   "metadata": {},
   "outputs": [
    {
     "ename": "RuntimeError",
     "evalue": "mat1 and mat2 shapes cannot be multiplied (3x2 and 3x2)",
     "output_type": "error",
     "traceback": [
      "\u001b[0;31m---------------------------------------------------------------------------\u001b[0m",
      "\u001b[0;31mRuntimeError\u001b[0m                              Traceback (most recent call last)",
      "Cell \u001b[0;32mIn[28], line 1\u001b[0m\n\u001b[0;32m----> 1\u001b[0m \u001b[43mtorch\u001b[49m\u001b[38;5;241;43m.\u001b[39;49m\u001b[43mmatmul\u001b[49m\u001b[43m(\u001b[49m\u001b[43mtensor_a\u001b[49m\u001b[43m,\u001b[49m\u001b[43m \u001b[49m\u001b[43mtensor_b\u001b[49m\u001b[43m)\u001b[49m\n",
      "\u001b[0;31mRuntimeError\u001b[0m: mat1 and mat2 shapes cannot be multiplied (3x2 and 3x2)"
     ]
    }
   ],
   "source": [
    "torch.matmul(tensor_a, tensor_b)"
   ]
  },
  {
   "cell_type": "code",
   "execution_count": 29,
   "id": "37bb64a1-2617-4599-86d2-ac2c14dc489e",
   "metadata": {},
   "outputs": [
    {
     "data": {
      "text/plain": [
       "tensor([[ 7, 17, 27],\n",
       "        [14, 32, 50],\n",
       "        [20, 46, 72]])"
      ]
     },
     "execution_count": 29,
     "metadata": {},
     "output_type": "execute_result"
    }
   ],
   "source": [
    "# To fix transpose issues, we use a transpose on one of the matrices\n",
    " \n",
    "torch.matmul(tensor_a, tensor_b.T)"
   ]
  },
  {
   "cell_type": "markdown",
   "id": "9b6d3da4-a7e0-41e0-8fc3-4c55b7de454c",
   "metadata": {},
   "source": [
    "### Finding min, max, mean, sum, etc (tensor aggregation)\n",
    "\n"
   ]
  },
  {
   "cell_type": "code",
   "execution_count": null,
   "id": "71f06bee-16af-4eac-aa07-d8bbda88a649",
   "metadata": {},
   "outputs": [],
   "source": []
  },
  {
   "cell_type": "code",
   "execution_count": 30,
   "id": "9a0a57fa-e9dc-402f-b621-3c7b6ff02178",
   "metadata": {},
   "outputs": [
    {
     "name": "stdout",
     "output_type": "stream",
     "text": [
      "tensor(2)\n",
      "tensor(7)\n",
      "tensor(4.5000)\n",
      "tensor(27)\n"
     ]
    }
   ],
   "source": [
    "# find the min\n",
    "print(torch.min(torch.min(tensor_a)))\n",
    "\n",
    "print(torch.max(tensor_a))\n",
    "\n",
    "print(torch.mean(tensor_a.type(torch.float32))) #can only work on dtype <= torch.float32\n",
    "\n",
    "print(torch.sum(tensor_a))"
   ]
  },
  {
   "cell_type": "code",
   "execution_count": 31,
   "id": "38af957b-f764-4e75-a73e-1b9b86056573",
   "metadata": {},
   "outputs": [
    {
     "data": {
      "text/plain": [
       "tensor(5)"
      ]
     },
     "execution_count": 31,
     "metadata": {},
     "output_type": "execute_result"
    }
   ],
   "source": [
    "# argmin and argmax, are methods used to get the index position of the max or min value in a tensor\n",
    "\n",
    "tensor_a.argmax()"
   ]
  },
  {
   "cell_type": "code",
   "execution_count": 32,
   "id": "c0aae4f6-7338-4581-b46d-e67e35fa8472",
   "metadata": {},
   "outputs": [
    {
     "data": {
      "text/plain": [
       "tensor(7)"
      ]
     },
     "execution_count": 32,
     "metadata": {},
     "output_type": "execute_result"
    }
   ],
   "source": [
    "tensor_a.max()"
   ]
  },
  {
   "cell_type": "code",
   "execution_count": 33,
   "id": "be02e7c2-4bac-4819-aee3-5894019f6e89",
   "metadata": {},
   "outputs": [
    {
     "data": {
      "text/plain": [
       "tensor([[3, 2],\n",
       "        [4, 5],\n",
       "        [6, 7]])"
      ]
     },
     "execution_count": 33,
     "metadata": {},
     "output_type": "execute_result"
    }
   ],
   "source": [
    "tensor_a"
   ]
  },
  {
   "cell_type": "code",
   "execution_count": 34,
   "id": "e46dd2b1-c856-4564-89b8-d7e5872b2cce",
   "metadata": {},
   "outputs": [
    {
     "data": {
      "text/plain": [
       "tensor([[0.8114, 0.6421, 0.9782, 0.4819, 0.1513, 0.5620],\n",
       "        [0.5014, 0.3416, 0.4647, 0.2435, 0.0661, 0.3608],\n",
       "        [1.2606, 0.9213, 1.3266, 0.6738, 0.1972, 0.8919],\n",
       "        [0.6253, 0.4719, 0.6956, 0.3488, 0.1052, 0.4388]])"
      ]
     },
     "execution_count": 34,
     "metadata": {},
     "output_type": "execute_result"
    }
   ],
   "source": [
    "tb, tc= torch.rand(4, 2), torch.rand(2, 6)\n",
    "\n",
    "torch.mm(tb, tc)"
   ]
  },
  {
   "cell_type": "markdown",
   "id": "2ed1365c-1e36-4ac9-9e95-18567cc4d83b",
   "metadata": {},
   "source": [
    "## Reshaping, stacking, squeezing, and unsqueezing tensors\n",
    "\n",
    "* Reshaping: this reshapes a tensor to a defined shape.\n",
    "* View: This shows a tensor as a different shape but keeps the original shape in memory. it means that changning the view will also change the original tensor\n",
    "* Stacking: This combines tensors, one on top of the other (vstack) or side by side (hstack). this can also be done with stack and passing in dimensions `dim` as an arguement.\n",
    "* Squeeze: this removes all `1` dimensions from a tensor.\n",
    "* Unsqueeze: Add a `1` dimension to a tensor.\n",
    "* Permute: Return a view of the input with dimensions permuted (swapped) in a certain way."
   ]
  },
  {
   "cell_type": "code",
   "execution_count": 47,
   "id": "56837fd5-acf6-4d70-a219-87bca196e4bb",
   "metadata": {},
   "outputs": [
    {
     "data": {
      "text/plain": [
       "(tensor([1, 2, 3, 4, 5, 6, 7, 8, 9]), torch.Size([9]))"
      ]
     },
     "execution_count": 47,
     "metadata": {},
     "output_type": "execute_result"
    }
   ],
   "source": [
    "import torch # so we can run the notebook from this point\n",
    "\n",
    "# to create a new tensor\n",
    "x= torch.arange(1, 10)\n",
    "x, x.shape"
   ]
  },
  {
   "cell_type": "code",
   "execution_count": 85,
   "id": "109669e0-cc36-445a-b04e-3f4df3c2e545",
   "metadata": {},
   "outputs": [
    {
     "data": {
      "text/plain": [
       "(tensor([5, 2, 3, 4, 5, 6, 7, 8, 9]),\n",
       " tensor([[5, 2, 3],\n",
       "         [4, 5, 6],\n",
       "         [7, 8, 9]]))"
      ]
     },
     "execution_count": 85,
     "metadata": {},
     "output_type": "execute_result"
    }
   ],
   "source": [
    "# reshaping. the primary rule for reshaping is that the reshape must be a multiple of the original size of the original tensor\n",
    "x_reshaped= x.reshape(1, 9)\n",
    "x, x.reshape(3, 3)"
   ]
  },
  {
   "cell_type": "code",
   "execution_count": 49,
   "id": "90981cc0-89c6-4280-9742-0b4eddae17eb",
   "metadata": {},
   "outputs": [
    {
     "data": {
      "text/plain": [
       "(torch.Size([9]), torch.Size([3, 3]))"
      ]
     },
     "execution_count": 49,
     "metadata": {},
     "output_type": "execute_result"
    }
   ],
   "source": [
    "x.shape, x.reshape(3, 3).shape"
   ]
  },
  {
   "cell_type": "code",
   "execution_count": 52,
   "id": "c8a896fb-a8f7-431b-a55e-26a9672d59fc",
   "metadata": {},
   "outputs": [
    {
     "name": "stdout",
     "output_type": "stream",
     "text": [
      "x is: tensor([1, 2, 3, 4, 5, 6, 7, 8, 9])\n",
      "y is: tensor([[1, 2, 3, 4, 5, 6, 7, 8, 9]])\n"
     ]
    }
   ],
   "source": [
    "# view. A view can be used to create a copy of a tensor but will keep the original memory of the tensor. By this, they end up as different names pointing to the same address object in memory.\n",
    "# This means that changing the view of a tensor will also change the original tensor itself\n",
    "\n",
    "y= x.view(1, 9)\n",
    "\n",
    "print(f\"x is: {x}\\ny is: {y}\")"
   ]
  },
  {
   "cell_type": "code",
   "execution_count": 56,
   "id": "ebbf8859-0806-46d0-8155-22a38202d0a2",
   "metadata": {},
   "outputs": [
    {
     "name": "stdout",
     "output_type": "stream",
     "text": [
      "x is: tensor([5, 2, 3, 4, 5, 6, 7, 8, 9])\n",
      "y is: tensor([[5, 2, 3, 4, 5, 6, 7, 8, 9]])\n"
     ]
    }
   ],
   "source": [
    "y[0][:1] = 5 # Here we assign the first element in the view y of the original tensor x\n",
    "\n",
    "print(f\"x is: {x}\\ny is: {y}\") # lets print the tensors of x and y"
   ]
  },
  {
   "cell_type": "code",
   "execution_count": 61,
   "id": "a5c35816-0dbf-47b4-983f-034219a03069",
   "metadata": {},
   "outputs": [
    {
     "data": {
      "text/plain": [
       "tensor([[5, 2, 3, 4, 5, 6, 7, 8, 9],\n",
       "        [5, 2, 3, 4, 5, 6, 7, 8, 9],\n",
       "        [5, 2, 3, 4, 5, 6, 7, 8, 9],\n",
       "        [5, 2, 3, 4, 5, 6, 7, 8, 9],\n",
       "        [5, 2, 3, 4, 5, 6, 7, 8, 9]])"
      ]
     },
     "execution_count": 61,
     "metadata": {},
     "output_type": "execute_result"
    }
   ],
   "source": [
    "# stack tensors on top of each other\n",
    "x_stacked= torch.stack([x, x, x, x, x], dim=0) # `dim = 0` will stack tensors vertically - one on top of the other, while `dim-1` will stack tensors horizontally\n",
    "\n",
    "x_stacked"
   ]
  },
  {
   "cell_type": "code",
   "execution_count": 89,
   "id": "10a7b61c-eb8c-4191-be14-b54e75d9198b",
   "metadata": {},
   "outputs": [
    {
     "name": "stdout",
     "output_type": "stream",
     "text": [
      "This is the x_reshaped tensor: tensor([[5, 2, 3, 4, 5, 6, 7, 8, 9]])\n",
      "This is its shape: torch.Size([1, 9]).\n",
      "\n",
      "\n",
      "This is the x_reshaped tensor after squeezing: tensor([5, 2, 3, 4, 5, 6, 7, 8, 9])\n",
      "This is its shape: torch.Size([9]).\n",
      "\n",
      "\n"
     ]
    }
   ],
   "source": [
    "# squeeze\n",
    "\n",
    "print(f\"This is the x_reshaped tensor: {x_reshaped}\\nThis is its shape: {x_reshaped.shape}.\\n\\n\")\n",
    "\n",
    "x_reshaped_squeezed= x_reshaped.squeeze() # this will squeeze the tensor so all 1 dimensions are removed both horizontally and vertically\n",
    "print(f\"This is the x_reshaped tensor after squeezing: {x_reshaped_squeezed}\\nThis is its shape: {x_reshaped_squeezed.shape}.\\n\\n\")"
   ]
  },
  {
   "cell_type": "code",
   "execution_count": 94,
   "id": "5e5a128a-133f-48e4-bbff-c688499582ce",
   "metadata": {},
   "outputs": [
    {
     "name": "stdout",
     "output_type": "stream",
     "text": [
      "The x_reshaped_squeezed tensor is: tensor([5, 2, 3, 4, 5, 6, 7, 8, 9])\n",
      "Its shape is torch.Size([9]).\n",
      "\n",
      "\n",
      "The x_reshaped_unsqueezed tensor is: tensor([[5, 2, 3, 4, 5, 6, 7, 8, 9]])\n",
      "Its shape is torch.Size([1, 9]).\n",
      "\n",
      "\n"
     ]
    }
   ],
   "source": [
    "# using tensor.unsqueeze()\n",
    "\n",
    "print(f\"The x_reshaped_squeezed tensor is: {x_reshaped_squeezed}\\nIts shape is {x_reshaped_squeezed.shape}.\\n\\n\")\n",
    "\n",
    "x_reshaped_unsqueezed= x_reshaped_squeezed.unsqueeze(dim= 0)\n",
    "\n",
    "print(f\"The x_reshaped_unsqueezed tensor is: {x_reshaped_unsqueezed}\\nIts shape is {x_reshaped_unsqueezed.shape}.\\n\\n\")"
   ]
  },
  {
   "cell_type": "code",
   "execution_count": 95,
   "id": "8b825772-a56f-4758-9594-73830f203432",
   "metadata": {},
   "outputs": [
    {
     "name": "stdout",
     "output_type": "stream",
     "text": [
      "Previous shape: torch.Size([224, 224, 3])\n",
      "New shape: torch.Size([3, 224, 224])\n"
     ]
    }
   ],
   "source": [
    "# `torch.permute()` rearranges a target tensor in a specified order\n",
    "# Create tensor with specific shape\n",
    "x_original = torch.rand(size=(224, 224, 3))\n",
    "\n",
    "# Permute the original tensor to rearrange the axis order\n",
    "x_permuted = x_original.permute(2, 0, 1) # shifts axis 0->1, 1->2, 2->0\n",
    "\n",
    "print(f\"Previous shape: {x_original.shape}\")\n",
    "print(f\"New shape: {x_permuted.shape}\")"
   ]
  },
  {
   "cell_type": "markdown",
   "id": "e55d8022-5fc2-4755-9466-75d7ad3e8b67",
   "metadata": {},
   "source": [
    "## Indexing (selecting data from tensors)\n",
    "\n",
    "Sometimes you'll want to select specific data from tensors (for example, only the first column or second row).\n",
    "\n",
    "To do so, you can use indexing.\n",
    "\n",
    "If you've ever done indexing on Python lists or NumPy arrays, indexing in PyTorch with tensors is very similar.\n",
    "\n"
   ]
  },
  {
   "cell_type": "code",
   "execution_count": 1,
   "id": "90a4c9de-62aa-4552-b505-3f9550ee02ac",
   "metadata": {},
   "outputs": [
    {
     "data": {
      "text/plain": [
       "(tensor([[[1, 2, 3],\n",
       "          [4, 5, 6],\n",
       "          [7, 8, 9]]]),\n",
       " torch.Size([1, 3, 3]))"
      ]
     },
     "execution_count": 1,
     "metadata": {},
     "output_type": "execute_result"
    }
   ],
   "source": [
    "# Create a tensor \n",
    "import torch\n",
    "x = torch.arange(1, 10).reshape(1, 3, 3)\n",
    "x, x.shape"
   ]
  },
  {
   "cell_type": "markdown",
   "id": "95c04b6a-01cb-421c-b07b-bb536e3f4b7b",
   "metadata": {},
   "source": [
    "**Indexing values goes outer dimension -> inner dimension (check out the square brackets).**"
   ]
  },
  {
   "cell_type": "code",
   "execution_count": 2,
   "id": "eb2297b3-762b-4b7f-aa4d-83ae43449e4a",
   "metadata": {},
   "outputs": [
    {
     "name": "stdout",
     "output_type": "stream",
     "text": [
      "First square bracket:\n",
      "tensor([[1, 2, 3],\n",
      "        [4, 5, 6],\n",
      "        [7, 8, 9]])\n",
      "Second square bracket: tensor([1, 2, 3])\n",
      "Third square bracket: 1\n"
     ]
    }
   ],
   "source": [
    "\n",
    "# Let's index bracket by bracket\n",
    "print(f\"First square bracket:\\n{x[0]}\") \n",
    "print(f\"Second square bracket: {x[0][0]}\") \n",
    "print(f\"Third square bracket: {x[0][0][0]}\")"
   ]
  },
  {
   "cell_type": "markdown",
   "id": "270e9d73-2ced-4c1f-b23d-0f036742bf09",
   "metadata": {},
   "source": [
    "## PyTorch tensors & NumPy\n",
    "Since NumPy is a popular Python numerical computing library, PyTorch has functionality to interact with it nicely.\n",
    "\n",
    "The two main methods you'll want to use for NumPy to PyTorch (and back again) are:\n",
    "\n",
    "* torch.from_numpy(ndarray) - NumPy array -> PyTorch tensor.\n",
    "* torch.Tensor.numpy() - PyTorch tensor -> NumPy array.\n",
    "\n",
    "Let's try them out."
   ]
  },
  {
   "cell_type": "code",
   "execution_count": 3,
   "id": "4e4e6c63-b32b-41b7-9d0d-45465f3f49d8",
   "metadata": {},
   "outputs": [
    {
     "data": {
      "text/plain": [
       "(array([1., 2., 3., 4., 5., 6., 7.]),\n",
       " tensor([1., 2., 3., 4., 5., 6., 7.], dtype=torch.float64))"
      ]
     },
     "execution_count": 3,
     "metadata": {},
     "output_type": "execute_result"
    }
   ],
   "source": [
    "# NumPy array to tensor\n",
    "import torch\n",
    "import numpy as np\n",
    "array = np.arange(1.0, 8.0)\n",
    "tensor = torch.from_numpy(array)\n",
    "array, tensor"
   ]
  },
  {
   "cell_type": "markdown",
   "id": "bc32653c-6ef1-46d8-85e1-a9ab5359baf3",
   "metadata": {},
   "source": [
    "\n",
    "> **Note**: By default, NumPy arrays are created with the datatype float64 and if you convert it to a PyTorch tensor, it'll keep the same datatype (as above).\n",
    ">\n",
    "> However, many PyTorch calculations default to using float32.\n",
    ">\n",
    "> So if you want to convert your NumPy array (float64) -> PyTorch tensor (float64) -> PyTorch tensor (float32), you can use tensor = torch.from_numpy(array).type(torch.float32)."
   ]
  },
  {
   "cell_type": "code",
   "execution_count": 4,
   "id": "0ef0e7a2-8e2d-490f-82d7-abc5f48c9a9b",
   "metadata": {},
   "outputs": [
    {
     "data": {
      "text/plain": [
       "(array([2., 3., 4., 5., 6., 7., 8.]),\n",
       " tensor([1., 2., 3., 4., 5., 6., 7.], dtype=torch.float64))"
      ]
     },
     "execution_count": 4,
     "metadata": {},
     "output_type": "execute_result"
    }
   ],
   "source": [
    "# Change the array, keep the tensor\n",
    "array = array + 1\n",
    "array, tensor"
   ]
  },
  {
   "cell_type": "markdown",
   "id": "b1fea4f2-449b-4cc8-a37e-c92c0a2c0a57",
   "metadata": {},
   "source": [
    "And if you want to go from PyTorch tensor to NumPy array, you can call `tensor.numpy().`"
   ]
  },
  {
   "cell_type": "code",
   "execution_count": 5,
   "id": "a5cf0ccb-2071-41d1-9e08-b26eca4d68b9",
   "metadata": {},
   "outputs": [
    {
     "data": {
      "text/plain": [
       "(tensor([1., 1., 1., 1., 1., 1., 1.]),\n",
       " array([1., 1., 1., 1., 1., 1., 1.], dtype=float32))"
      ]
     },
     "execution_count": 5,
     "metadata": {},
     "output_type": "execute_result"
    }
   ],
   "source": [
    "# Tensor to NumPy array\n",
    "tensor = torch.ones(7) # create a tensor of ones with dtype=float32\n",
    "numpy_tensor = tensor.numpy() # will be dtype=float32 unless changed\n",
    "tensor, numpy_tensor"
   ]
  },
  {
   "cell_type": "markdown",
   "id": "85cb6945-3207-4176-af01-63c8dd8b17cf",
   "metadata": {},
   "source": [
    "And the same rule applies as above, if you change the original `tensor`, the new `numpy_tensor` stays the same.\n",
    "\n"
   ]
  },
  {
   "cell_type": "code",
   "execution_count": 6,
   "id": "96f04b96-e1b3-4651-a0a6-ec9454e9d72c",
   "metadata": {},
   "outputs": [
    {
     "data": {
      "text/plain": [
       "(tensor([2., 2., 2., 2., 2., 2., 2.]),\n",
       " array([1., 1., 1., 1., 1., 1., 1.], dtype=float32))"
      ]
     },
     "execution_count": 6,
     "metadata": {},
     "output_type": "execute_result"
    }
   ],
   "source": [
    "# Change the tensor, keep the array the same\n",
    "tensor = tensor + 1\n",
    "tensor, numpy_tensor"
   ]
  },
  {
   "cell_type": "code",
   "execution_count": null,
   "id": "33fb843f-4d5f-46e3-a5cb-facefb46d544",
   "metadata": {},
   "outputs": [],
   "source": []
  },
  {
   "cell_type": "markdown",
   "id": "180a440f-1058-4d69-9039-6a0f3e56ff5f",
   "metadata": {},
   "source": [
    "## Reproducibility (trying to take the random out of random)\n",
    "\n",
    "As you learn more about neural networks and machine learning, you'll start to discover how much randomness plays a part.\n",
    "\n",
    "Well, pseudorandomness that is. Because after all, as they're designed, a computer is fundamentally deterministic (each step is predictable) so the randomness they create are simulated randomness (though there is debate on this too, but since I'm not a computer scientist, I'll let you find out more yourself).\n",
    "\n",
    "How does this relate to neural networks and deep learning then?\n",
    "\n",
    "We've discussed neural networks start with random numbers to describe patterns in data (these numbers are poor descriptions) and try to improve those random numbers using tensor operations (and a few other things we haven't discussed yet) to better describe patterns in data.\n",
    "\n",
    "In short:\n",
    "\n",
    "`start with random numbers -> tensor operations -> try to make better (again and again and again)`\n",
    "\n",
    "Although randomness is nice and powerful, sometimes you'd like there to be a little less randomness.\n",
    "\n",
    "Why?\n",
    "\n",
    "So you can perform repeatable experiments.\n",
    "\n",
    "For example, you create an algorithm capable of achieving X performance.\n",
    "\n",
    "And then your friend tries it out to verify you're not crazy.\n",
    "\n",
    "How could they do such a thing?\n",
    "\n",
    "That's where **reproducibility** comes in.\n",
    "\n",
    "In other words, can you get the same (or very similar) results on your computer running the same code as I get on mine?\n",
    "\n",
    "Let's see a brief example of reproducibility in PyTorch.\n",
    "\n",
    "We'll start by creating two random tensors, since they're random, you'd expect them to be different right?\n",
    "\n"
   ]
  },
  {
   "cell_type": "code",
   "execution_count": 7,
   "id": "b7d5c79d-b42a-4074-a997-f2d0371f33f8",
   "metadata": {},
   "outputs": [
    {
     "name": "stdout",
     "output_type": "stream",
     "text": [
      "Tensor A:\n",
      "tensor([[0.8475, 0.3644, 0.7671, 0.4612],\n",
      "        [0.6031, 0.4138, 0.9056, 0.9290],\n",
      "        [0.6019, 0.7683, 0.9867, 0.5866]])\n",
      "\n",
      "Tensor B:\n",
      "tensor([[0.9580, 0.8821, 0.2590, 0.8117],\n",
      "        [0.9322, 0.4008, 0.9352, 0.7091],\n",
      "        [0.2863, 0.7263, 0.2207, 0.5912]])\n",
      "\n",
      "Does Tensor A equal Tensor B? (anywhere)\n"
     ]
    },
    {
     "data": {
      "text/plain": [
       "tensor([[False, False, False, False],\n",
       "        [False, False, False, False],\n",
       "        [False, False, False, False]])"
      ]
     },
     "execution_count": 7,
     "metadata": {},
     "output_type": "execute_result"
    }
   ],
   "source": [
    "import torch\n",
    "\n",
    "# Create two random tensors\n",
    "random_tensor_A = torch.rand(3, 4)\n",
    "random_tensor_B = torch.rand(3, 4)\n",
    "\n",
    "print(f\"Tensor A:\\n{random_tensor_A}\\n\")\n",
    "print(f\"Tensor B:\\n{random_tensor_B}\\n\")\n",
    "print(f\"Does Tensor A equal Tensor B? (anywhere)\")\n",
    "random_tensor_A == random_tensor_B"
   ]
  },
  {
   "cell_type": "markdown",
   "id": "514aa1a7-f08f-454f-896e-5eeace03388b",
   "metadata": {},
   "source": [
    "Just as you might've expected, the tensors come out with different values.\n",
    "\n",
    "But what if you wanted to created two random tensors with the same values.\n",
    "\n",
    "As in, the tensors would still contain random values but they would be of the same flavour.\n",
    "\n",
    "That's where `torch.manual_seed(seed)` comes in, where seed is an integer (like 42 but it could be anything) that flavours the randomness.\n",
    "\n",
    "Let's try it out by creating some more flavoured random tensors."
   ]
  },
  {
   "cell_type": "code",
   "execution_count": 8,
   "id": "8e9a393b-e55d-4c50-a2e5-06f63d402eac",
   "metadata": {},
   "outputs": [
    {
     "name": "stdout",
     "output_type": "stream",
     "text": [
      "Tensor C:\n",
      "tensor([[0.8823, 0.9150, 0.3829, 0.9593],\n",
      "        [0.3904, 0.6009, 0.2566, 0.7936],\n",
      "        [0.9408, 0.1332, 0.9346, 0.5936]])\n",
      "\n",
      "Tensor D:\n",
      "tensor([[0.8823, 0.9150, 0.3829, 0.9593],\n",
      "        [0.3904, 0.6009, 0.2566, 0.7936],\n",
      "        [0.9408, 0.1332, 0.9346, 0.5936]])\n",
      "\n",
      "Does Tensor C equal Tensor D? (anywhere)\n"
     ]
    },
    {
     "data": {
      "text/plain": [
       "tensor([[True, True, True, True],\n",
       "        [True, True, True, True],\n",
       "        [True, True, True, True]])"
      ]
     },
     "execution_count": 8,
     "metadata": {},
     "output_type": "execute_result"
    }
   ],
   "source": [
    "import torch\n",
    "import random\n",
    "\n",
    "# # Set the random seed\n",
    "RANDOM_SEED=42 # try changing this to different values and see what happens to the numbers below\n",
    "torch.manual_seed(seed=RANDOM_SEED) \n",
    "random_tensor_C = torch.rand(3, 4)\n",
    "\n",
    "# Have to reset the seed every time a new rand() is called \n",
    "# Without this, tensor_D would be different to tensor_C \n",
    "torch.random.manual_seed(seed=RANDOM_SEED) # try commenting this line out and seeing what happens\n",
    "random_tensor_D = torch.rand(3, 4)\n",
    "\n",
    "print(f\"Tensor C:\\n{random_tensor_C}\\n\")\n",
    "print(f\"Tensor D:\\n{random_tensor_D}\\n\")\n",
    "print(f\"Does Tensor C equal Tensor D? (anywhere)\")\n",
    "random_tensor_C == random_tensor_D"
   ]
  },
  {
   "cell_type": "markdown",
   "id": "8e6efa66-f070-4768-889f-ecd6a509e4c1",
   "metadata": {},
   "source": [
    "\n",
    "Nice!\n",
    "\n",
    "It looks like setting the seed worked.\n",
    "\n",
    ">Resource: What we've just covered only scratches the surface of reproducibility in PyTorch. For more, on reproducbility in general and random seeds, I'd checkout:\n",
    ">\n",
    "> * The <a href=\"https://pytorch.org/docs/stable/notes/randomness.html\">PyTorch reproducibility documentation</a> (a good exericse would be to read through this for 10-minutes and even if you don't understand it now, being aware of it is important).\n",
    "> * The <a href=\"https://en.wikipedia.org/wiki/Random_seed\">Wikipedia random seed page</a> (this'll give a good overview of random seeds and pseudorandomness in general)."
   ]
  },
  {
   "cell_type": "markdown",
   "id": "796fc1d2-f8b7-4779-aa8b-9712f89b8fdf",
   "metadata": {},
   "source": [
    "## Running tensors on GPUs (and making faster computations)\n",
    "\n",
    "Deep learning algorithms require a lot of numerical operations.\n",
    "\n",
    "And by default these operations are often done on a CPU (computer processing unit).\n",
    "\n",
    "However, there's another common piece of hardware called a GPU (graphics processing unit), which is often much faster at performing the specific types of operations neural networks need (matrix multiplications) than CPUs.\n",
    "\n",
    "Your computer might have one.\n",
    "\n",
    "If so, you should look to use it whenever you can to train neural networks because chances are it'll speed up the training time dramatically.\n",
    "\n",
    "There are a few ways to first get access to a GPU and secondly get PyTorch to use the GPU.\n",
    "\n",
    "> **Note**: When I reference \"GPU\" throughout this course, I'm referencing a Nvidia GPU with CUDA enabled (CUDA is a computing platform and API that helps allow GPUs be used for general purpose computing & not just graphics) unless otherwise specified.\n",
    "\n"
   ]
  },
  {
   "cell_type": "markdown",
   "id": "a20b839b-c25b-46a3-8511-f2aa58ab648f",
   "metadata": {},
   "source": [
    "### 1. Getting a GPU\n",
    "You may already know what's going on when I say GPU. But if not, there are a few ways to get access to one.\n",
    "\n",
    "\n",
    "| Method | Difficulty to setup | Pros | Cons | How to setup |\n",
    "| ------------:| -------------: | -----------------------------: | -----------------------------: | -----------------------------: |\n",
    "| Google Colab | Easy | Free to use, almost zero setup required, can share work with others as easy as a link | Doesn't save your data outputs, limited compute, subject to timeouts | Follow the Google Colab Guide |\n",
    "| Use your own | Medium | Run everything locally on your own machine | GPUs aren't free, require upfront cost | Follow the PyTorch installation guidelines |\n",
    "| Cloud computing (AWS, GCP, Azure) | Medium-Hard | Small upfront cost, access to almost infinite compute | Can get expensive if running continually, takes some time to setup right | Follow the PyTorch installation guidelines | "
   ]
  },
  {
   "cell_type": "markdown",
   "id": "683b374a-08d0-49de-ab8b-af82e6cef3f6",
   "metadata": {},
   "source": [
    "There are more options for using GPUs but the above three will suffice for now.\n",
    "\n",
    "Personally, I use a combination of Google Colab and my own personal computer for small scale experiments (and creating this course) and go to cloud resources when I need more compute power.\n",
    "\n",
    "> **Resource:** If you're looking to purchase a GPU of your own but not sure what to get, <a href=\"https://timdettmers.com/2023/01/30/which-gpu-for-deep-learning/\">Tim Dettmers</a> has an excellent guide.\n",
    "\n",
    "To check if you've got access to a Nvidia GPU, you can run `!nvidia-smi` where the `!` (also called bang) means \"run this on the command line\".\n",
    "\n"
   ]
  },
  {
   "cell_type": "code",
   "execution_count": 9,
   "id": "383e61c3-9cb1-45a7-9152-9d954ad3f1a1",
   "metadata": {},
   "outputs": [
    {
     "name": "stdout",
     "output_type": "stream",
     "text": [
      "zsh:1: command not found: nvidia-smi\n"
     ]
    }
   ],
   "source": [
    "!nvidia-smi"
   ]
  },
  {
   "cell_type": "markdown",
   "id": "52c32fa4-df82-48fa-9dd6-71005c91edd7",
   "metadata": {},
   "source": [
    "## 2. Getting PyTorch to run on the GPU\n",
    "Once you've got a GPU ready to access, the next step is getting PyTorch to use for storing data (tensors) and computing on data (performing operations on tensors).\n",
    "\n",
    "To do so, you can use the torch.cuda package.\n",
    "\n",
    "Rather than talk about it, let's try it out.\n",
    "\n",
    "You can test if PyTorch has access to a GPU using <a href=\"https://pytorch.org/docs/stable/generated/torch.cuda.is_available.html#torch.cuda.is_available\">`torch.cuda.is_available()`</a>.\n",
    "\n"
   ]
  },
  {
   "cell_type": "code",
   "execution_count": 10,
   "id": "62b88f40-6800-4d7c-8c9c-60e219159974",
   "metadata": {},
   "outputs": [
    {
     "data": {
      "text/plain": [
       "False"
      ]
     },
     "execution_count": 10,
     "metadata": {},
     "output_type": "execute_result"
    }
   ],
   "source": [
    "# Check for GPU\n",
    "import torch\n",
    "torch.cuda.is_available()"
   ]
  },
  {
   "cell_type": "markdown",
   "id": "0a36c660-0f90-438f-a840-657571b77202",
   "metadata": {},
   "source": [
    "\n",
    "If the above outputs `True`, PyTorch can see and use the GPU, if it outputs `False`, it can't see the GPU and in that case, you'll have to go back through the installation steps.\n",
    "\n",
    "Now, let's say you wanted to setup your code so it ran on CPU or the GPU if it was available.\n",
    "\n",
    "That way, if you or someone decides to run your code, it'll work regardless of the computing device they're using.\n",
    "\n",
    "Let's create a `device` variable to store what kind of device is available."
   ]
  },
  {
   "cell_type": "code",
   "execution_count": 12,
   "id": "919970f5-5bab-4f9e-ab31-c3b591869eab",
   "metadata": {},
   "outputs": [
    {
     "data": {
      "text/plain": [
       "'mps'"
      ]
     },
     "execution_count": 12,
     "metadata": {},
     "output_type": "execute_result"
    }
   ],
   "source": [
    "# Set device type\n",
    "device = 'mps' if torch.backends.mps.is_available() else 'cpu'\n",
    "device"
   ]
  },
  {
   "cell_type": "markdown",
   "id": "286c2958-0a35-43c0-bf30-48060cba1d2a",
   "metadata": {},
   "source": [
    "If the above output \"cuda\" it means we can set all of our PyTorch code to use the available CUDA device (a GPU) and if it output \"cpu\", our PyTorch code will stick with the CPU.\n",
    "\n",
    "> **Note:** In PyTorch, it's best practice to write <a href=\"https://pytorch.org/docs/master/notes/cuda.html#device-agnostic-code\">**device agnostic code**</a>. This means code that'll run on CPU (always available) or GPU (if available).\n",
    "\n",
    "If you want to do faster computing you can use a GPU but if you want to do much faster computing, you can use multiple GPUs.\n",
    "\n",
    "You can count the number of GPUs PyTorch has access to using torch.cuda.device_count().\n",
    "\n"
   ]
  },
  {
   "cell_type": "code",
   "execution_count": 13,
   "id": "6636c9e1-0f9f-4189-a268-03aee4267af4",
   "metadata": {},
   "outputs": [
    {
     "data": {
      "text/plain": [
       "0"
      ]
     },
     "execution_count": 13,
     "metadata": {},
     "output_type": "execute_result"
    }
   ],
   "source": [
    "# Count number of devices\n",
    "torch.cuda.device_count()"
   ]
  },
  {
   "cell_type": "markdown",
   "id": "feebb897-bb25-4054-b4c5-55bf3e674ca8",
   "metadata": {},
   "source": [
    "\n",
    "Knowing the number of GPUs PyTorch has access to is helpful incase you wanted to run a specific process on one GPU and another process on another (PyTorch also has features to let you run a process across all GPUs).\n",
    "\n"
   ]
  },
  {
   "cell_type": "markdown",
   "id": "ef6893ac-e485-4374-8957-3118708d05d9",
   "metadata": {},
   "source": [
    "### 3. Putting tensors (and models) on the GPU\n",
    "You can put tensors (and models, we'll see this later) on a specific device by calling to(device) on them. Where device is the target device you'd like the tensor (or model) to go to.\n",
    "\n",
    "Why do this?\n",
    "\n",
    "GPUs offer far faster numerical computing than CPUs do and if a GPU isn't available, because of our device agnostic code (see above), it'll run on the CPU.\n",
    "\n",
    "> **Note:** Putting a tensor on GPU using to(device) (e.g. some_tensor.to(device)) returns a copy of that tensor, e.g. the same tensor will be on CPU and GPU. To overwrite tensors, reassign them:\n",
    ">\n",
    "> \n",
    ">some_tensor = some_tensor.to(device)\n",
    "\n",
    "Let's try creating a tensor and putting it on the GPU (if it's available).\n",
    "\n"
   ]
  },
  {
   "cell_type": "code",
   "execution_count": 14,
   "id": "94c8eb90-e376-4a12-96d5-f5c48539a876",
   "metadata": {},
   "outputs": [
    {
     "name": "stdout",
     "output_type": "stream",
     "text": [
      "tensor([1, 2, 3]) cpu\n"
     ]
    },
    {
     "data": {
      "text/plain": [
       "tensor([1, 2, 3], device='mps:0')"
      ]
     },
     "execution_count": 14,
     "metadata": {},
     "output_type": "execute_result"
    }
   ],
   "source": [
    "# Create tensor (default on CPU)\n",
    "tensor = torch.tensor([1, 2, 3])\n",
    "\n",
    "# Tensor not on GPU\n",
    "print(tensor, tensor.device)\n",
    "\n",
    "# Move tensor to GPU (if available)\n",
    "tensor_on_gpu = tensor.to(device)\n",
    "tensor_on_gpu"
   ]
  },
  {
   "cell_type": "markdown",
   "id": "e462ce70-823d-4844-8856-0cecf0559ec3",
   "metadata": {},
   "source": [
    "\n",
    "If you have a GPU available, the above code will output something like:\n",
    "\n",
    "\n",
    "`tensor([1, 2, 3]) CPU`\n",
    "\n",
    "`tensor([1, 2, 3], device='cuda:0')`\n",
    "\n",
    "Notice the second tensor has device='cuda:0', this means it's stored on the 0th GPU available (GPUs are 0 indexed, if two GPUs were available, they'd be 'cuda:0' and 'cuda:1' respectively, up to 'cuda:n').\n",
    "\n"
   ]
  },
  {
   "cell_type": "markdown",
   "id": "44df28d3-886a-4534-a67e-4b1f073b4ea1",
   "metadata": {},
   "source": [
    "### 4. Moving tensors back to the CPU\n",
    "What if we wanted to move the tensor back to CPU?\n",
    "\n",
    "For example, you'll want to do this if you want to interact with your tensors with NumPy (NumPy does not leverage the GPU).\n",
    "\n",
    "Let's try using the <a href=\"https://pytorch.org/docs/stable/generated/torch.Tensor.numpy.html\">`torch.Tensor.numpy()`</a> method on our tensor_on_gpu.\n",
    "\n"
   ]
  },
  {
   "cell_type": "code",
   "execution_count": 15,
   "id": "aeda2c30-140f-44c1-9945-a43d028204b6",
   "metadata": {},
   "outputs": [
    {
     "ename": "TypeError",
     "evalue": "can't convert mps:0 device type tensor to numpy. Use Tensor.cpu() to copy the tensor to host memory first.",
     "output_type": "error",
     "traceback": [
      "\u001b[0;31m---------------------------------------------------------------------------\u001b[0m",
      "\u001b[0;31mTypeError\u001b[0m                                 Traceback (most recent call last)",
      "Cell \u001b[0;32mIn[15], line 2\u001b[0m\n\u001b[1;32m      1\u001b[0m \u001b[38;5;66;03m# If tensor is on GPU, can't transform it to NumPy (this will error)\u001b[39;00m\n\u001b[0;32m----> 2\u001b[0m \u001b[43mtensor_on_gpu\u001b[49m\u001b[38;5;241;43m.\u001b[39;49m\u001b[43mnumpy\u001b[49m\u001b[43m(\u001b[49m\u001b[43m)\u001b[49m\n",
      "\u001b[0;31mTypeError\u001b[0m: can't convert mps:0 device type tensor to numpy. Use Tensor.cpu() to copy the tensor to host memory first."
     ]
    }
   ],
   "source": [
    "# If tensor is on GPU, can't transform it to NumPy (this will error)\n",
    "tensor_on_gpu.numpy()"
   ]
  },
  {
   "cell_type": "markdown",
   "id": "0132b74b-3ebc-4c12-9929-f77094911185",
   "metadata": {},
   "source": [
    "\n",
    "Instead, to get a tensor back to CPU and usable with NumPy we can use Tensor.cpu().\n",
    "\n",
    "This copies the tensor to CPU memory so it's usable with CPUs.\n",
    "\n"
   ]
  },
  {
   "cell_type": "code",
   "execution_count": 16,
   "id": "c91bcb2a-19c4-4a18-9243-4b73ccf5d599",
   "metadata": {},
   "outputs": [
    {
     "data": {
      "text/plain": [
       "array([1, 2, 3])"
      ]
     },
     "execution_count": 16,
     "metadata": {},
     "output_type": "execute_result"
    }
   ],
   "source": [
    "# Instead, copy the tensor back to cpu\n",
    "tensor_back_on_cpu = tensor_on_gpu.cpu().numpy()\n",
    "tensor_back_on_cpu"
   ]
  },
  {
   "cell_type": "markdown",
   "id": "9678a3e4-1bbd-4a4b-a83f-e10fa63aec26",
   "metadata": {},
   "source": [
    "The above returns a copy of the GPU tensor in CPU memory so the original tensor is still on GPU."
   ]
  },
  {
   "cell_type": "code",
   "execution_count": 17,
   "id": "e3a0d34a-aac1-4e24-afe6-88f6cd599a76",
   "metadata": {},
   "outputs": [
    {
     "data": {
      "text/plain": [
       "tensor([1, 2, 3], device='mps:0')"
      ]
     },
     "execution_count": 17,
     "metadata": {},
     "output_type": "execute_result"
    }
   ],
   "source": [
    "tensor_on_gpu"
   ]
  },
  {
   "cell_type": "code",
   "execution_count": null,
   "id": "fb761090-eae9-4a6a-895a-f04549d4bc17",
   "metadata": {},
   "outputs": [],
   "source": []
  },
  {
   "cell_type": "code",
   "execution_count": null,
   "id": "2be389d7-2f17-45ac-952d-5c33a31ca5a0",
   "metadata": {},
   "outputs": [],
   "source": []
  }
 ],
 "metadata": {
  "kernelspec": {
   "display_name": "Python 3 (ipykernel)",
   "language": "python",
   "name": "python3"
  },
  "language_info": {
   "codemirror_mode": {
    "name": "ipython",
    "version": 3
   },
   "file_extension": ".py",
   "mimetype": "text/x-python",
   "name": "python",
   "nbconvert_exporter": "python",
   "pygments_lexer": "ipython3",
   "version": "3.8.17"
  }
 },
 "nbformat": 4,
 "nbformat_minor": 5
}
